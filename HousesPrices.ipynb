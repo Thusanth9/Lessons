{
  "nbformat": 4,
  "nbformat_minor": 0,
  "metadata": {
    "colab": {
      "provenance": [],
      "include_colab_link": true
    },
    "kernelspec": {
      "name": "python3",
      "display_name": "Python 3"
    },
    "language_info": {
      "name": "python"
    }
  },
  "cells": [
    {
      "cell_type": "markdown",
      "metadata": {
        "id": "view-in-github",
        "colab_type": "text"
      },
      "source": [
        "<a href=\"https://colab.research.google.com/github/Thusanth9/Lessons/blob/main/HousesPrices.ipynb\" target=\"_parent\"><img src=\"https://colab.research.google.com/assets/colab-badge.svg\" alt=\"Open In Colab\"/></a>"
      ]
    },
    {
      "cell_type": "code",
      "execution_count": 3,
      "metadata": {
        "id": "cjBdok5Xh_mJ"
      },
      "outputs": [],
      "source": [
        "import pandas as pd\n",
        "import numpy as np\n",
        "import matplotlib.pyplot as plt\n",
        "import seaborn as sns\n",
        "from scipy.stats import linregress\n",
        "from google.colab import files\n"
      ]
    },
    {
      "cell_type": "code",
      "source": [
        "# Step 1: Upload the file\n",
        "uploaded = files.upload()\n"
      ],
      "metadata": {
        "colab": {
          "base_uri": "https://localhost:8080/",
          "height": 73
        },
        "id": "gNp0BbfknGrt",
        "outputId": "59b68bd4-c8dd-4026-98a3-bedd9809a2b2"
      },
      "execution_count": 4,
      "outputs": [
        {
          "output_type": "display_data",
          "data": {
            "text/plain": [
              "<IPython.core.display.HTML object>"
            ],
            "text/html": [
              "\n",
              "     <input type=\"file\" id=\"files-c0774ba0-a91d-40de-8966-ead09aceff69\" name=\"files[]\" multiple disabled\n",
              "        style=\"border:none\" />\n",
              "     <output id=\"result-c0774ba0-a91d-40de-8966-ead09aceff69\">\n",
              "      Upload widget is only available when the cell has been executed in the\n",
              "      current browser session. Please rerun this cell to enable.\n",
              "      </output>\n",
              "      <script>// Copyright 2017 Google LLC\n",
              "//\n",
              "// Licensed under the Apache License, Version 2.0 (the \"License\");\n",
              "// you may not use this file except in compliance with the License.\n",
              "// You may obtain a copy of the License at\n",
              "//\n",
              "//      http://www.apache.org/licenses/LICENSE-2.0\n",
              "//\n",
              "// Unless required by applicable law or agreed to in writing, software\n",
              "// distributed under the License is distributed on an \"AS IS\" BASIS,\n",
              "// WITHOUT WARRANTIES OR CONDITIONS OF ANY KIND, either express or implied.\n",
              "// See the License for the specific language governing permissions and\n",
              "// limitations under the License.\n",
              "\n",
              "/**\n",
              " * @fileoverview Helpers for google.colab Python module.\n",
              " */\n",
              "(function(scope) {\n",
              "function span(text, styleAttributes = {}) {\n",
              "  const element = document.createElement('span');\n",
              "  element.textContent = text;\n",
              "  for (const key of Object.keys(styleAttributes)) {\n",
              "    element.style[key] = styleAttributes[key];\n",
              "  }\n",
              "  return element;\n",
              "}\n",
              "\n",
              "// Max number of bytes which will be uploaded at a time.\n",
              "const MAX_PAYLOAD_SIZE = 100 * 1024;\n",
              "\n",
              "function _uploadFiles(inputId, outputId) {\n",
              "  const steps = uploadFilesStep(inputId, outputId);\n",
              "  const outputElement = document.getElementById(outputId);\n",
              "  // Cache steps on the outputElement to make it available for the next call\n",
              "  // to uploadFilesContinue from Python.\n",
              "  outputElement.steps = steps;\n",
              "\n",
              "  return _uploadFilesContinue(outputId);\n",
              "}\n",
              "\n",
              "// This is roughly an async generator (not supported in the browser yet),\n",
              "// where there are multiple asynchronous steps and the Python side is going\n",
              "// to poll for completion of each step.\n",
              "// This uses a Promise to block the python side on completion of each step,\n",
              "// then passes the result of the previous step as the input to the next step.\n",
              "function _uploadFilesContinue(outputId) {\n",
              "  const outputElement = document.getElementById(outputId);\n",
              "  const steps = outputElement.steps;\n",
              "\n",
              "  const next = steps.next(outputElement.lastPromiseValue);\n",
              "  return Promise.resolve(next.value.promise).then((value) => {\n",
              "    // Cache the last promise value to make it available to the next\n",
              "    // step of the generator.\n",
              "    outputElement.lastPromiseValue = value;\n",
              "    return next.value.response;\n",
              "  });\n",
              "}\n",
              "\n",
              "/**\n",
              " * Generator function which is called between each async step of the upload\n",
              " * process.\n",
              " * @param {string} inputId Element ID of the input file picker element.\n",
              " * @param {string} outputId Element ID of the output display.\n",
              " * @return {!Iterable<!Object>} Iterable of next steps.\n",
              " */\n",
              "function* uploadFilesStep(inputId, outputId) {\n",
              "  const inputElement = document.getElementById(inputId);\n",
              "  inputElement.disabled = false;\n",
              "\n",
              "  const outputElement = document.getElementById(outputId);\n",
              "  outputElement.innerHTML = '';\n",
              "\n",
              "  const pickedPromise = new Promise((resolve) => {\n",
              "    inputElement.addEventListener('change', (e) => {\n",
              "      resolve(e.target.files);\n",
              "    });\n",
              "  });\n",
              "\n",
              "  const cancel = document.createElement('button');\n",
              "  inputElement.parentElement.appendChild(cancel);\n",
              "  cancel.textContent = 'Cancel upload';\n",
              "  const cancelPromise = new Promise((resolve) => {\n",
              "    cancel.onclick = () => {\n",
              "      resolve(null);\n",
              "    };\n",
              "  });\n",
              "\n",
              "  // Wait for the user to pick the files.\n",
              "  const files = yield {\n",
              "    promise: Promise.race([pickedPromise, cancelPromise]),\n",
              "    response: {\n",
              "      action: 'starting',\n",
              "    }\n",
              "  };\n",
              "\n",
              "  cancel.remove();\n",
              "\n",
              "  // Disable the input element since further picks are not allowed.\n",
              "  inputElement.disabled = true;\n",
              "\n",
              "  if (!files) {\n",
              "    return {\n",
              "      response: {\n",
              "        action: 'complete',\n",
              "      }\n",
              "    };\n",
              "  }\n",
              "\n",
              "  for (const file of files) {\n",
              "    const li = document.createElement('li');\n",
              "    li.append(span(file.name, {fontWeight: 'bold'}));\n",
              "    li.append(span(\n",
              "        `(${file.type || 'n/a'}) - ${file.size} bytes, ` +\n",
              "        `last modified: ${\n",
              "            file.lastModifiedDate ? file.lastModifiedDate.toLocaleDateString() :\n",
              "                                    'n/a'} - `));\n",
              "    const percent = span('0% done');\n",
              "    li.appendChild(percent);\n",
              "\n",
              "    outputElement.appendChild(li);\n",
              "\n",
              "    const fileDataPromise = new Promise((resolve) => {\n",
              "      const reader = new FileReader();\n",
              "      reader.onload = (e) => {\n",
              "        resolve(e.target.result);\n",
              "      };\n",
              "      reader.readAsArrayBuffer(file);\n",
              "    });\n",
              "    // Wait for the data to be ready.\n",
              "    let fileData = yield {\n",
              "      promise: fileDataPromise,\n",
              "      response: {\n",
              "        action: 'continue',\n",
              "      }\n",
              "    };\n",
              "\n",
              "    // Use a chunked sending to avoid message size limits. See b/62115660.\n",
              "    let position = 0;\n",
              "    do {\n",
              "      const length = Math.min(fileData.byteLength - position, MAX_PAYLOAD_SIZE);\n",
              "      const chunk = new Uint8Array(fileData, position, length);\n",
              "      position += length;\n",
              "\n",
              "      const base64 = btoa(String.fromCharCode.apply(null, chunk));\n",
              "      yield {\n",
              "        response: {\n",
              "          action: 'append',\n",
              "          file: file.name,\n",
              "          data: base64,\n",
              "        },\n",
              "      };\n",
              "\n",
              "      let percentDone = fileData.byteLength === 0 ?\n",
              "          100 :\n",
              "          Math.round((position / fileData.byteLength) * 100);\n",
              "      percent.textContent = `${percentDone}% done`;\n",
              "\n",
              "    } while (position < fileData.byteLength);\n",
              "  }\n",
              "\n",
              "  // All done.\n",
              "  yield {\n",
              "    response: {\n",
              "      action: 'complete',\n",
              "    }\n",
              "  };\n",
              "}\n",
              "\n",
              "scope.google = scope.google || {};\n",
              "scope.google.colab = scope.google.colab || {};\n",
              "scope.google.colab._files = {\n",
              "  _uploadFiles,\n",
              "  _uploadFilesContinue,\n",
              "};\n",
              "})(self);\n",
              "</script> "
            ]
          },
          "metadata": {}
        },
        {
          "output_type": "stream",
          "name": "stdout",
          "text": [
            "Saving 2018-2022.csv to 2018-2022.csv\n"
          ]
        }
      ]
    },
    {
      "cell_type": "code",
      "source": [
        "# Import the data\n",
        "df = pd.read_csv(\"2018-2022.csv\")\n",
        "df['deed_date']=pd.to_datetime(df['deed_date'])\n",
        "df=pd.DataFrame(df)\n",
        "df= df.drop_duplicates(subset=['price_paid','deed_date','street','paon','saon','estate_type', 'district'])\n",
        "print(df.columns.values)\n",
        "df=df.loc[:,['price_paid','deed_date','street', 'postcode','property_type','estate_type', 'district']]\n",
        "print(df)\n",
        "\n",
        "df['deed_date'] = df['deed_date'].apply(lambda x: x.timestamp())\n",
        "df_2= df.sort_values(by='price_paid', ascending=True)\n",
        "print(df_2)"
      ],
      "metadata": {
        "colab": {
          "base_uri": "https://localhost:8080/"
        },
        "id": "YTD78uLzlenu",
        "outputId": "2da53e1f-85f0-4759-c6a3-4f9eb952c20c",
        "collapsed": true
      },
      "execution_count": 13,
      "outputs": [
        {
          "output_type": "stream",
          "name": "stdout",
          "text": [
            "['unique_id' 'price_paid' 'deed_date' 'postcode' 'property_type'\n",
            " 'new_build' 'estate_type' 'saon' 'paon' 'street' 'locality' 'town'\n",
            " 'district' 'county' 'transaction_category'\n",
            " 'linked_data_uri\"8355F008-E750-55C5-E053-6B04A8C0D090\"' '233500'\n",
            " '2018-11-26' 'E1 0AD' 'F' 'N' 'L' 'FLAT 4' 'BILL FAUST HOUSE, 20'\n",
            " 'TARLING STREET' 'Unnamed: 25' 'LONDON' 'TOWER HAMLETS' 'GREATER LONDON'\n",
            " 'A'\n",
            " 'http://landregistry.data.gov.uk/data/ppi/transaction/8355F008-E750-55C5-E053-6B04A8C0D090/current']\n",
            "        price_paid  deed_date               street postcode property_type  \\\n",
            "0           140000 2019-05-24       TARLING STREET   E1 0AD             F   \n",
            "1           325000 2020-08-13       TARLING STREET   E1 0AD             F   \n",
            "2           176000 2018-12-06       TARLING STREET   E1 0AD             F   \n",
            "3           430500 2018-10-18         CABLE STREET   E1 0AE             F   \n",
            "4           420000 2021-06-25         CABLE STREET   E1 0AE             F   \n",
            "...            ...        ...                  ...      ...           ...   \n",
            "246484      575000 2021-08-27    VICARAGE CRESCENT      NaN             O   \n",
            "246486      320000 2021-11-19          WANDLE ROAD      NaN             O   \n",
            "246487      500000 2020-10-30  WIMBLEDON PARK ROAD      NaN             F   \n",
            "246488      123125 2019-11-29                  NaN      NaN             F   \n",
            "246489      225655 2021-04-20                  NaN      NaN             O   \n",
            "\n",
            "       estate_type       district  \n",
            "0                L  TOWER HAMLETS  \n",
            "1                L  TOWER HAMLETS  \n",
            "2                L  TOWER HAMLETS  \n",
            "3                L  TOWER HAMLETS  \n",
            "4                L  TOWER HAMLETS  \n",
            "...            ...            ...  \n",
            "246484           L     WANDSWORTH  \n",
            "246486           F     WANDSWORTH  \n",
            "246487           L     WANDSWORTH  \n",
            "246488           L     WANDSWORTH  \n",
            "246489           F     WANDSWORTH  \n",
            "\n",
            "[246003 rows x 7 columns]\n",
            "        price_paid     deed_date               street  postcode property_type  \\\n",
            "79792       100000  1.538352e+09        COSTER AVENUE    N4 2LD             F   \n",
            "245782      100000  1.540944e+09              FROGNAL       NaN             O   \n",
            "202943      100000  1.635466e+09        KNIGHTSBRIDGE  SW1X 7LJ             O   \n",
            "245637      100000  1.613088e+09       EARLHAM STREET  WC2H 9LD             O   \n",
            "155288      100000  1.536192e+09       CRANFIELD WALK   SE3 9EX             F   \n",
            "...            ...           ...                  ...       ...           ...   \n",
            "174274     2000000  1.547597e+09  CHARLES CLOWES WALK  SW11 7AJ             F   \n",
            "61167      2000000  1.581466e+09   WOODSIDE PARK ROAD   N12 8RP             O   \n",
            "61168      2000000  1.581466e+09   WOODSIDE PARK ROAD   N12 8RP             O   \n",
            "211637     2000000  1.534723e+09        TREBOVIR ROAD   SW5 9TF             F   \n",
            "211245     2000000  1.638490e+09   COURTFIELD GARDENS   SW5 0PD             F   \n",
            "\n",
            "       estate_type                district  \n",
            "79792            L                 HACKNEY  \n",
            "245782           F                  CAMDEN  \n",
            "202943           L     CITY OF WESTMINSTER  \n",
            "245637           L                  CAMDEN  \n",
            "155288           L               GREENWICH  \n",
            "...            ...                     ...  \n",
            "174274           L              WANDSWORTH  \n",
            "61167            F                  BARNET  \n",
            "61168            F                  BARNET  \n",
            "211637           L  KENSINGTON AND CHELSEA  \n",
            "211245           L  KENSINGTON AND CHELSEA  \n",
            "\n",
            "[246003 rows x 7 columns]\n"
          ]
        }
      ]
    },
    {
      "cell_type": "code",
      "source": [
        "df_cleaned=df_2.dropna()\n",
        "print(df_cleaned)\n",
        "print(df_cleaned.isna().any())\n"
      ],
      "metadata": {
        "id": "qWLQpMx_qFFM",
        "outputId": "b409ccea-dbfa-46bb-e885-b6c2ab161e13",
        "colab": {
          "base_uri": "https://localhost:8080/"
        }
      },
      "execution_count": 14,
      "outputs": [
        {
          "output_type": "stream",
          "name": "stdout",
          "text": [
            "        price_paid     deed_date               street  postcode property_type  \\\n",
            "79792       100000  1.538352e+09        COSTER AVENUE    N4 2LD             F   \n",
            "202943      100000  1.635466e+09        KNIGHTSBRIDGE  SW1X 7LJ             O   \n",
            "245637      100000  1.613088e+09       EARLHAM STREET  WC2H 9LD             O   \n",
            "155288      100000  1.536192e+09       CRANFIELD WALK   SE3 9EX             F   \n",
            "245407      100000  1.607558e+09      PORTUGAL STREET  WC2A 2AT             O   \n",
            "...            ...           ...                  ...       ...           ...   \n",
            "174274     2000000  1.547597e+09  CHARLES CLOWES WALK  SW11 7AJ             F   \n",
            "61167      2000000  1.581466e+09   WOODSIDE PARK ROAD   N12 8RP             O   \n",
            "61168      2000000  1.581466e+09   WOODSIDE PARK ROAD   N12 8RP             O   \n",
            "211637     2000000  1.534723e+09        TREBOVIR ROAD   SW5 9TF             F   \n",
            "211245     2000000  1.638490e+09   COURTFIELD GARDENS   SW5 0PD             F   \n",
            "\n",
            "       estate_type                district  \n",
            "79792            L                 HACKNEY  \n",
            "202943           L     CITY OF WESTMINSTER  \n",
            "245637           L                  CAMDEN  \n",
            "155288           L               GREENWICH  \n",
            "245407           L     CITY OF WESTMINSTER  \n",
            "...            ...                     ...  \n",
            "174274           L              WANDSWORTH  \n",
            "61167            F                  BARNET  \n",
            "61168            F                  BARNET  \n",
            "211637           L  KENSINGTON AND CHELSEA  \n",
            "211245           L  KENSINGTON AND CHELSEA  \n",
            "\n",
            "[245244 rows x 7 columns]\n",
            "price_paid       False\n",
            "deed_date        False\n",
            "street           False\n",
            "postcode         False\n",
            "property_type    False\n",
            "estate_type      False\n",
            "district         False\n",
            "dtype: bool\n"
          ]
        }
      ]
    },
    {
      "cell_type": "code",
      "source": [
        "print(df_cleaned['district'])"
      ],
      "metadata": {
        "id": "U-lwaFirnGpL",
        "outputId": "d49f16f3-b63d-4a27-cf9f-9bc25e096295",
        "colab": {
          "base_uri": "https://localhost:8080/"
        }
      },
      "execution_count": 15,
      "outputs": [
        {
          "output_type": "stream",
          "name": "stdout",
          "text": [
            "79792                    HACKNEY\n",
            "202943       CITY OF WESTMINSTER\n",
            "245637                    CAMDEN\n",
            "155288                 GREENWICH\n",
            "245407       CITY OF WESTMINSTER\n",
            "                   ...          \n",
            "174274                WANDSWORTH\n",
            "61167                     BARNET\n",
            "61168                     BARNET\n",
            "211637    KENSINGTON AND CHELSEA\n",
            "211245    KENSINGTON AND CHELSEA\n",
            "Name: district, Length: 245244, dtype: object\n"
          ]
        }
      ]
    },
    {
      "cell_type": "code",
      "source": [
        "for x in df_cleaned['district'].unique():\n",
        "    if df_cleaned['district'].value_counts()[x] < 100:\n",
        "        df_cleaned = df_cleaned[df_cleaned['district'] != x]\n",
        "\n",
        "print(df_cleaned['district'])"
      ],
      "metadata": {
        "id": "42FFSqP0oXtY",
        "outputId": "5a56681b-d396-459b-90c8-8272be97057b",
        "colab": {
          "base_uri": "https://localhost:8080/"
        }
      },
      "execution_count": 32,
      "outputs": [
        {
          "output_type": "stream",
          "name": "stdout",
          "text": [
            "79792                    HACKNEY\n",
            "202943       CITY OF WESTMINSTER\n",
            "245637                    CAMDEN\n",
            "155288                 GREENWICH\n",
            "245407       CITY OF WESTMINSTER\n",
            "                   ...          \n",
            "174274                WANDSWORTH\n",
            "61167                     BARNET\n",
            "61168                     BARNET\n",
            "211637    KENSINGTON AND CHELSEA\n",
            "211245    KENSINGTON AND CHELSEA\n",
            "Name: district, Length: 245157, dtype: object\n"
          ]
        }
      ]
    }
  ]
}